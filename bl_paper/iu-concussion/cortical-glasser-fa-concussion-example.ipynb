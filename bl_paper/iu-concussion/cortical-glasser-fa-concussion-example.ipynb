{
 "cells": [
  {
   "cell_type": "code",
   "execution_count": 1,
   "metadata": {},
   "outputs": [],
   "source": [
    "import os, sys\n",
    "import numpy as np\n",
    "import pandas as pd\n",
    "import seaborn as sns\n",
    "import matplotlib.pyplot as plt"
   ]
  },
  {
   "cell_type": "code",
   "execution_count": 2,
   "metadata": {},
   "outputs": [],
   "source": [
    "def collectSubjectData(topPath,dataPath,groups,subjects,colors):\n",
    "\n",
    "    # set up variables\n",
    "    data_columns = ['subjectID','classID','colors']\n",
    "    data =  pd.DataFrame([],columns=data_columns)\n",
    "\n",
    "    # populate structure\n",
    "    data['subjectID'] = [ f for g in groups for f in subjects[g] ]\n",
    "    data['classID'] = [ g for g in groups for f in range(len(subjects[g]))]\n",
    "    data['colors'] = [ colors[c] for c in colors for f in subjects[c]]\n",
    "\n",
    "    # output data structure for records and any further analyses\n",
    "    if not os.path.exists(dataPath):\n",
    "        os.mkdir(dataPath)\n",
    "\n",
    "    data.to_csv(dataPath+'subjects.csv',index=False)\n",
    "\n",
    "    return data\n",
    "\n",
    "def collectData(datatype,datatype_tags,tags,filename,subjects_data,colors,outPath):\n",
    "\n",
    "    import requests\n",
    "    import pandas as pd\n",
    "\n",
    "    # grab path and data objects\n",
    "    objects = requests.get('https://brainlife.io/api/warehouse/secondary/list/%s'%os.environ['PROJECT_ID']).json()\n",
    "    \n",
    "    # subjects and paths\n",
    "    subjects = []\n",
    "    paths = []\n",
    "    \n",
    "    # set up output\n",
    "    data = pd.DataFrame()\n",
    "\n",
    "    # loop through objects\n",
    "    for obj in objects:\n",
    "        if obj['datatype']['name'] == datatype:\n",
    "            if datatype_tags in obj['output']['datatype_tags']:\n",
    "                if tags in obj['output']['tags']:\n",
    "                    subjects = np.append(subjects,obj['output']['meta']['subject'])\n",
    "                    paths = np.append(paths,\"input/\"+obj[\"path\"]+\"/\"+filename)\n",
    "    \n",
    "    # sort paths by subject order\n",
    "    paths = [x for _,x in sorted(zip(subjects,paths))]\n",
    "\n",
    "    for i in paths:\n",
    "        tmpdata = pd.read_csv(i)\n",
    "        if tmpdata.subjectID.dtypes != 'object':\n",
    "            tmpdata['subjectID'] = [ str(int(np.float(f))) for f in tmpdata.subjectID ]\n",
    "        if 'classID' in tmpdata.keys():\n",
    "            tmpdata = pd.merge(tmpdata,subjects_data,on=['subjectID','classID'])\n",
    "        else:\n",
    "            tmpdata = pd.merge(tmpdata,subjects_data,on='subjectID')\n",
    "        data = data.append(tmpdata,ignore_index=True)\n",
    "            \n",
    "    # replace empty spaces with nans\n",
    "    data = data.replace(r'^\\s+$', np.nan, regex=True)\n",
    "\n",
    "    # output data structure for records and any further analyses\n",
    "    # subjects.csv\n",
    "    data.to_csv(outPath,index=False)\n",
    "\n",
    "    return data\n"
   ]
  },
  {
   "cell_type": "code",
   "execution_count": 3,
   "metadata": {},
   "outputs": [],
   "source": [
    "# set up empty dictionaries\n",
    "subjects = {}\n",
    "colors = {}\n",
    "groups = {}\n",
    "\n",
    "# populate dictionaries with groups\n",
    "groups['concussed'] = []\n",
    "groups['controls'] = []\n",
    "\n",
    "# populate subjects dictionaries with appropriate subject indicies\n",
    "subjects['concussed'] = ['3_041','3_042','3_043','3_044','3_045','3_047','3_050','4_054','4_065']\n",
    "subjects['controls'] = ['3_038','3_046','4_051','4_053','4_055','4_056','4_057','4_059','4_060','4_061','4_062','4_063','4_064','4_066','4_067','4_068','4_069','4_072','4_073','4_074']\n",
    "\n",
    "# set colors dictionary\n",
    "colors['concussed'] = 'red'\n",
    "colors['controls'] = 'blue'\n",
    "\n",
    "# set toppath and save path (datapath)\n",
    "topPath = './'\n",
    "dataPath = topPath\n",
    "\n",
    "# create subjects dataframe\n",
    "subjects_data = collectSubjectData(topPath,dataPath,groups,subjects,colors)"
   ]
  },
  {
   "cell_type": "code",
   "execution_count": 39,
   "metadata": {},
   "outputs": [
    {
     "data": {
      "text/plain": [
       "'3_041|3_042|3_043|3_044|3_045|3_047|3_050|4_054|4_065|3_038|3_046|4_051|4_053|4_055|4_056|4_057|4_059|4_060|4_061|4_062|4_063|4_064|4_066|4_067|4_068|4_069|4_072|4_073|4_074'"
      ]
     },
     "execution_count": 39,
     "metadata": {},
     "output_type": "execute_result"
    }
   ],
   "source": [
    "str(subjects_data['subjectID'].tolist()).replace('[','').replace(']','').replace(',','').replace(\"'\",'').replace(' ','|')"
   ]
  },
  {
   "cell_type": "code",
   "execution_count": 4,
   "metadata": {},
   "outputs": [],
   "source": [
    "if os.path.isfile('./data/cortical_glasser.csv'):\n",
    "    cortical_data = pd.read_csv('./data/cortical_glasser.csv')\n",
    "else:\n",
    "    cortical_data = collectData('neuro/parc-stats','cortex_mapping_stats','bl_paper','parc_MEAN.csv',subjects_data,colors,'./data/cortical_glasser.csv')"
   ]
  },
  {
   "cell_type": "code",
   "execution_count": 23,
   "metadata": {},
   "outputs": [
    {
     "data": {
      "image/png": "[encoded data removed]",
      "text/plain": [
       "<Figure size 432x288 with 1 Axes>"
      ]
     },
     "metadata": {
      "needs_background": "light"
     },
     "output_type": "display_data"
    }
   ],
   "source": [
    "sns.violinplot(x='fa',data=cortical_data.loc[cortical_data['structureID'] == 'L_STSda_ROI'].loc[cortical_data['classID'] == 'controls'],color='grey',scale='count',inner='points')\n",
    "sns.swarmplot(x='fa',data=cortical_data.loc[cortical_data['structureID'] == 'L_STSda_ROI'].loc[cortical_data['subjectID'] == '3_050'],color='red',size=5)\n",
    "plt.axvline(np.percentile(cortical_data.loc[cortical_data['structureID'] == 'L_STSda_ROI'].loc[cortical_data['classID'] == 'concussed']['fa'],50),color='red')\n",
    "plt.axvline(np.percentile(cortical_data.loc[cortical_data['structureID'] == 'L_STSda_ROI'].loc[cortical_data['classID'] == 'concussed']['fa'],10),color='red')\n",
    "plt.savefig('./images/cortex_mapped_fa_l_sts_da_concussion_example.png')\n",
    "plt.savefig('./images/cortex_mapped_fa_l_sts_da_concussion_example.eps')"
   ]
  },
  {
   "cell_type": "code",
   "execution_count": 9,
   "metadata": {},
   "outputs": [
    {
     "data": {
      "text/plain": [
       "0.11066214"
      ]
     },
     "execution_count": 9,
     "metadata": {},
     "output_type": "execute_result"
    }
   ],
   "source": [
    "np.percentile(cortical_data.loc[cortical_data['structureID'] == 'L_STSda_ROI'].loc[cortical_data['classID'] == 'concussed']['fa'],10)"
   ]
  },
  {
   "cell_type": "code",
   "execution_count": null,
   "metadata": {},
   "outputs": [],
   "source": []
  }
 ],
 "metadata": {
  "kernelspec": {
   "display_name": "Python 3",
   "language": "python",
   "name": "python3"
  },
  "language_info": {
   "codemirror_mode": {
    "name": "ipython",
    "version": 3
   },
   "file_extension": ".py",
   "mimetype": "text/x-python",
   "name": "python",
   "nbconvert_exporter": "python",
   "pygments_lexer": "ipython3",
   "version": "3.7.6"
  }
 },
 "nbformat": 4,
 "nbformat_minor": 4
}
